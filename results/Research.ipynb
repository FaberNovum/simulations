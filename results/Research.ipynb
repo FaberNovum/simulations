{
 "cells": [
  {
   "cell_type": "markdown",
   "id": "1fa0afb8-abfb-468d-9c27-a2a927e198c2",
   "metadata": {},
   "source": [
    "## Imports"
   ]
  },
  {
   "cell_type": "code",
   "execution_count": 17,
   "id": "8945ae34-ef9c-4452-b4cf-4e2ff81e3e43",
   "metadata": {},
   "outputs": [],
   "source": [
    "import numpy as np\n",
    "import pandas as pd\n",
    "from dx import *"
   ]
  },
  {
   "cell_type": "markdown",
   "id": "781deacc-14ed-4abe-b5d9-98cd218cd3c1",
   "metadata": {},
   "source": [
    "## Purpose"
   ]
  },
  {
   "cell_type": "markdown",
   "id": "92ea9553-3f02-4de0-90f5-a3f11c244ed0",
   "metadata": {},
   "source": [
    "We want to explore 3 well-known stochastic processes:\n",
    "- geometric brownian motion\n",
    "- jump diffusion\n",
    "- square-root diffusion"
   ]
  },
  {
   "cell_type": "markdown",
   "id": "90d90975-1cd9-4912-ae8a-c2162209a6a6",
   "metadata": {},
   "source": [
    "## Functions"
   ]
  },
  {
   "cell_type": "markdown",
   "id": "2f163b2d-4785-409e-bbbe-82dd29e1c632",
   "metadata": {},
   "source": [
    "If you want to end up doing Monte Carlo simulations, you will need a way to generate random numbers with different distributions.\n",
    "Note that we're generating distributions with variance reduction techniques like antithetic paths and moment matching."
   ]
  },
  {
   "cell_type": "code",
   "execution_count": 2,
   "id": "7c0eb4cd-faa2-4d89-870e-047e0f8c3d4a",
   "metadata": {},
   "outputs": [],
   "source": [
    "\n",
    "def sn_random_numbers(shape, antithetic=True, moment_matching=True, fixed_seed=False):\n",
    "        '''\n",
    "        Returns array of shape shape with (pseudo)random numbers that are standard normally distributed.\n",
    "        \n",
    "        Parameters\n",
    "        ==========\n",
    "        shape : tuple (o, n, m)\n",
    "            generation of array with shape (o, n, m)\n",
    "        antithetic : Boolean\n",
    "            generation of antithetic variates\n",
    "        moment_matching : Boolean\n",
    "            matching of first and second moments\n",
    "        fixed_seed : Boolean\n",
    "            flag to fix the seed\n",
    "            \n",
    "        Results\n",
    "        =======\n",
    "        ran : (o, n, m) array of (pseudo)random numbers\n",
    "        '''\n",
    "        if fixed_seed:\n",
    "            np.random.seed(1000)\n",
    "        if antithetic:\n",
    "            ran = np.random.standard_normal((shape[0], shape[1], shape[2] / 2))\n",
    "            ran = np.concatenate((ran, -ran), axis=2)\n",
    "        else:\n",
    "            ran = np.random.standard_normal(shape)\n",
    "        if moment_matching:\n",
    "            ran = ran - np.mean(ran)\n",
    "            ran = ran / np.std(ran)\n",
    "        if shape[0] == 1:\n",
    "            return ran[0]\n",
    "        else:\n",
    "            return ran"
   ]
  },
  {
   "cell_type": "code",
   "execution_count": 3,
   "id": "1a306aa4-884b-4379-8691-7e913d502c22",
   "metadata": {},
   "outputs": [],
   "source": [
    "snrn = sn_random_numbers((2, 2, 2,), antithetic=False, moment_matching=False, fixed_seed=True)"
   ]
  },
  {
   "cell_type": "code",
   "execution_count": 4,
   "id": "479652c2-73ac-420a-85d4-59e7ea97fa61",
   "metadata": {},
   "outputs": [
    {
     "data": {
      "text/plain": [
       "array([[[-0.8044583 ,  0.32093155],\n",
       "        [-0.02548288,  0.64432383]],\n",
       "\n",
       "       [[-0.30079667,  0.38947455],\n",
       "        [-0.1074373 , -0.47998308]]])"
      ]
     },
     "execution_count": 4,
     "metadata": {},
     "output_type": "execute_result"
    }
   ],
   "source": [
    "snrn"
   ]
  },
  {
   "cell_type": "code",
   "execution_count": 5,
   "id": "3eb22279-4248-4f25-be1f-dcac10cea829",
   "metadata": {},
   "outputs": [],
   "source": [
    "snrn_mm = sn_random_numbers((2,3,2), antithetic=False, moment_matching=True, fixed_seed=True)"
   ]
  },
  {
   "cell_type": "code",
   "execution_count": 6,
   "id": "b049f7b9-2f4f-4ec6-a9b9-72f63311f1b8",
   "metadata": {},
   "outputs": [
    {
     "data": {
      "text/plain": [
       "array([[[-1.47414161,  0.67072537],\n",
       "        [ 0.01049828,  1.28707482],\n",
       "        [-0.51421897,  0.80136066]],\n",
       "\n",
       "       [[-0.14569767, -0.85572818],\n",
       "        [ 1.19313679, -0.82653845],\n",
       "        [ 1.3308292 , -1.47730025]]])"
      ]
     },
     "execution_count": 6,
     "metadata": {},
     "output_type": "execute_result"
    }
   ],
   "source": [
    "snrn_mm"
   ]
  },
  {
   "cell_type": "code",
   "execution_count": 7,
   "id": "0f414c9b-61fe-4eee-855c-45fbf2dde42a",
   "metadata": {},
   "outputs": [
    {
     "data": {
      "text/plain": [
       "3.700743415417188e-17"
      ]
     },
     "execution_count": 7,
     "metadata": {},
     "output_type": "execute_result"
    }
   ],
   "source": [
    "snrn_mm.mean()"
   ]
  },
  {
   "cell_type": "code",
   "execution_count": 8,
   "id": "a68df80d-c1ea-427f-b405-acbada939ba4",
   "metadata": {},
   "outputs": [
    {
     "data": {
      "text/plain": [
       "1.0"
      ]
     },
     "execution_count": 8,
     "metadata": {},
     "output_type": "execute_result"
    }
   ],
   "source": [
    "snrn_mm.std()"
   ]
  },
  {
   "cell_type": "markdown",
   "id": "7faeffd1-e6b4-4fa6-85fe-c500e16ba797",
   "metadata": {},
   "source": [
    "## Generic Simulation Class"
   ]
  },
  {
   "cell_type": "code",
   "execution_count": 15,
   "id": "13fd7eb6-9cc4-4685-b9a4-46fd0a48531a",
   "metadata": {},
   "outputs": [],
   "source": [
    "class simulation_class(object):\n",
    "    '''\n",
    "    Base methods for simulation classes\n",
    "    \n",
    "    Attributes\n",
    "    ==========\n",
    "    name : string\n",
    "        name of object\n",
    "    mar_env : instance of market_environment\n",
    "        market environment data for simulation\n",
    "    corr : Boolean\n",
    "        True if correlated with other model object\n",
    "        \n",
    "    Methods\n",
    "    =======\n",
    "    generate_time_grid :\n",
    "        returns time grid for simulation\n",
    "    get_instrument_values : \n",
    "        returns current instrument values (array)\n",
    "    '''\n",
    "    \n",
    "    def __init__(self, name, mar_env, corr):\n",
    "        try:\n",
    "            self.name = name\n",
    "            self.pricing_date = mar_env.pricing_date\n",
    "            self.initial_value = mar_env.get_constant('initial_value')\n",
    "            self.volatility = mar_env.get_constant('volatility')\n",
    "            self.final_date = mar_env.get_constant('final_date')\n",
    "            self.currency = mar_env.get_constant('currency')\n",
    "            self.frequency = mar_env.get_constant('frequency')\n",
    "            self.paths = mar_env.get_constant('paths')\n",
    "            self.discount_curve = mar_env.get_curve('discout_curve')\n",
    "            try:\n",
    "                # if time_grid in mar_env take this\n",
    "                # (for portfolio valuation)\n",
    "                self.time_grid = mar_env.get_list('time_grid')\n",
    "            except:\n",
    "                self.time_grid = None\n",
    "            try:\n",
    "                # if special dates exist, add them\n",
    "                self.special_dates = mar_env.get_list('special_dates')\n",
    "            except:\n",
    "                self.special_dates = []\n",
    "            self.instrument_values = None\n",
    "            self.correlated = corr\n",
    "            if corr is True:\n",
    "                # only necessary in portfolio context when\n",
    "                # risk factors are correlated\n",
    "                self.cholesky_matrix = mar_env.get_list('cholesky_matrix')\n",
    "                self.rn_set = mar_env.get_list('rn_set')[self.name]\n",
    "                self.random_numbers = mar_env.get_list('random_numbers')\n",
    "        except:\n",
    "                print(\"Error parsing market environment\")\n",
    "    \n",
    "    def generate_time_grid(self):\n",
    "        start = self.pricing_date\n",
    "        end = self.final-date\n",
    "        # pandas date_range function\n",
    "        # freq = 'B' for business day\n",
    "        # 'W' for weekly, 'M' for monthly\n",
    "        time_grid = pd.date_range(start=start, end=end\n",
    "                                  , freq=self.frequency).to_pydatetime()\n",
    "        time_grid = list(time_grid)\n",
    "        # enhance time_grid by start, end, and special_dates\n",
    "        if start not in time_grid:\n",
    "            time_grid.insert(0, start)\n",
    "            # insert start date if not in list\n",
    "        if end not in time_grid:\n",
    "            time_grid.append(end)\n",
    "            # insert end date if not in list\n",
    "        if len(self.special_dates) > 0:\n",
    "            # add all special dates\n",
    "            time_grid.extend(self.special_dates)\n",
    "            # delete duplicates\n",
    "            time_grid = list(set(time_grid))\n",
    "            # sort list\n",
    "            time_grid.sort()\n",
    "        self.time_grid = np.array(time_grid)\n",
    "        \n",
    "    def get_instrument_values(self, fixed_seed=True):\n",
    "        if self.instrument_values is None:\n",
    "            # only initiate simulation if no instrument values exist\n",
    "            self.generate_paths(fixed_seed=fixed_seed, day_count=365)\n",
    "        elif fixed_seed is False:\n",
    "            # also initiate resimulation when fixed_seed is False\n",
    "            self.generate_paths(fixed_seed=fixed_seed, day_count=365)\n",
    "        return self.instrument_values"
   ]
  },
  {
   "cell_type": "markdown",
   "id": "d5e9911f-df38-4b9c-8313-4160af3f7d9b",
   "metadata": {},
   "source": [
    "# Geometric Brownian Motion"
   ]
  },
  {
   "cell_type": "markdown",
   "id": "c6cff941-0937-4ed3-8f3f-4fc9dd058e5e",
   "metadata": {},
   "source": [
    "## Simulation Class"
   ]
  },
  {
   "cell_type": "code",
   "execution_count": 16,
   "id": "4e7f683e-89b9-46ce-a0b1-307a78b298a4",
   "metadata": {},
   "outputs": [],
   "source": [
    "class geometric_brownian_motion(simulation_class):\n",
    "    \"\"\"\n",
    "    Class to generate simulated paths based on the Black-Scholes-Merton geometric\n",
    "    Brownian motion model.\n",
    "    \n",
    "    Attributes\n",
    "    ==========\n",
    "    name : string\n",
    "        name of the object\n",
    "    mar_env : instance of market_environment\n",
    "        market environment data for simulation\n",
    "    corr : Boolean\n",
    "        True if correlated  with other model simulation object\n",
    "        \n",
    "    Methods\n",
    "    =======\n",
    "    update : \n",
    "        updates paramters\n",
    "    generate_paths :\n",
    "        returns Monte Carlo paths given market environment\n",
    "    \"\"\"\n",
    "    \n",
    "    def __init__(self, name, mar_env, corr=False):\n",
    "        super(geometric_brownian_motion, self).__init__(name, mar_env, corr)\n",
    "        \n",
    "    def update(self, initial_value=None, volatility=None, final_date=None):\n",
    "        if initial_value is not None:\n",
    "            self.initial_value = initial_value\n",
    "        if volatility is not None:\n",
    "            self.volatility = volatility\n",
    "        if final_date is not None:\n",
    "            self.final_date = final_date\n",
    "        self.instrument_values = None\n",
    "    \n",
    "    def generate_paths(self, fixed_seed=False, day_count=365):\n",
    "        if self.time_grid is None:\n",
    "            self.generate_time_grid()\n",
    "            # method from generic simulation class\n",
    "        # number of dates for time grid\n",
    "        M = len(self.time_grid)\n",
    "        # number of paths\n",
    "        I = self.paths\n",
    "        # array initialization for path simulation\n",
    "        paths = np.zeros((M, I))\n",
    "        # initialize first date with initial_value\n",
    "        paths[0] = self.initial_value\n",
    "        if not self.correlated:\n",
    "            # if not correlated, generate random numbers\n",
    "            rand = sn_random_numbers((1, M, I), fixed_seed=fixed_seed)\n",
    "        else:\n",
    "            # if correlated, use random number object as provided\n",
    "            # in market environment\n",
    "            rand = self.random_Numbers\n",
    "        short_rate = self.discount_curve.short_rate\n",
    "        # get short rate for drift of process\n",
    "        for t in range(1, len(self.time_grid)):\n",
    "            # select right time slice from relevant\n",
    "            # random number set\n",
    "            if not self.correlated:\n",
    "                ran = rand[t]\n",
    "            else:\n",
    "                ran = npo.dot(self.cholesky_matrix, rand[:, t, :])\n",
    "                ran = ran[self.rn_set]\n",
    "            dt = (self.time_grid[t] - self.time_grid[t-1]).days / day_count\n",
    "            # difference between two dates as year fraction\n",
    "            paths[t] = paths[t-1] * np.exp((short_rate - 0.5 * self.volatility ** 2) * dt +\n",
    "                                           self.volatility * np.sqrt(dt) * ran)\n",
    "            # generate simulated values for the respective date\n",
    "        self.instrument_values = paths"
   ]
  },
  {
   "cell_type": "code",
   "execution_count": 18,
   "id": "5b22e957-901d-4cf4-b719-06e9688d6065",
   "metadata": {},
   "outputs": [],
   "source": [
    "me_gbm = market_environment('me_gbm', dt.datetime(2015, 1, 1))"
   ]
  },
  {
   "cell_type": "code",
   "execution_count": 20,
   "id": "1f7d7471-d852-49f3-904f-7735113c2b9d",
   "metadata": {},
   "outputs": [],
   "source": [
    "me_gbm.add_constant('initial_value', 36.)\n",
    "me_gbm.add_constant('volatility', 0.2)\n",
    "me_gbm.add_constant('final_date', dt.datetime(2015, 12, 31))\n",
    "me_gbm.add_constant('currency', 'EUR')\n",
    "me_gbm.add_constant('frequency', 'M')\n",
    "me_gbm.add_constant('paths', 1000)"
   ]
  },
  {
   "cell_type": "code",
   "execution_count": 21,
   "id": "2cdb0e92-bf15-4b2c-a5ec-1aceff822fd9",
   "metadata": {},
   "outputs": [],
   "source": [
    "csr = constant_short_rate('csr', 0.05)"
   ]
  },
  {
   "cell_type": "code",
   "execution_count": 22,
   "id": "35a76a49-dac0-42db-8910-a8293791fd3c",
   "metadata": {},
   "outputs": [],
   "source": [
    "me_gbm.add_curve('discount_curve', csr)"
   ]
  },
  {
   "cell_type": "code",
   "execution_count": 24,
   "id": "7a3ef7e4-8c7a-49e8-bcd4-34fd249c9260",
   "metadata": {},
   "outputs": [],
   "source": [
    "gbm = geometric_brownian_motion('gbm', me_gbm)"
   ]
  },
  {
   "cell_type": "code",
   "execution_count": 25,
   "id": "a180e2c8-a1a4-4150-876d-72f25c03c8d7",
   "metadata": {},
   "outputs": [],
   "source": [
    "gbm.generate_time_grid()"
   ]
  },
  {
   "cell_type": "code",
   "execution_count": 26,
   "id": "49f35fba-50af-4717-8da4-02acb5771410",
   "metadata": {},
   "outputs": [
    {
     "data": {
      "text/plain": [
       "array([datetime.datetime(2015, 1, 1, 0, 0),\n",
       "       datetime.datetime(2015, 1, 31, 0, 0),\n",
       "       datetime.datetime(2015, 2, 28, 0, 0),\n",
       "       datetime.datetime(2015, 3, 31, 0, 0),\n",
       "       datetime.datetime(2015, 4, 30, 0, 0),\n",
       "       datetime.datetime(2015, 5, 31, 0, 0),\n",
       "       datetime.datetime(2015, 6, 30, 0, 0),\n",
       "       datetime.datetime(2015, 7, 31, 0, 0),\n",
       "       datetime.datetime(2015, 8, 31, 0, 0),\n",
       "       datetime.datetime(2015, 9, 30, 0, 0),\n",
       "       datetime.datetime(2015, 10, 31, 0, 0),\n",
       "       datetime.datetime(2015, 11, 30, 0, 0),\n",
       "       datetime.datetime(2015, 12, 31, 0, 0)], dtype=object)"
      ]
     },
     "execution_count": 26,
     "metadata": {},
     "output_type": "execute_result"
    }
   ],
   "source": [
    "gbm.time_grid"
   ]
  },
  {
   "cell_type": "code",
   "execution_count": 27,
   "id": "0b5652ca-604e-4577-af2b-c752ad79a82d",
   "metadata": {},
   "outputs": [
    {
     "name": "stdout",
     "output_type": "stream",
     "text": [
      "CPU times: total: 0 ns\n",
      "Wall time: 1 ms\n"
     ]
    }
   ],
   "source": [
    "%time paths_1 = gbm.get_instrument_values()"
   ]
  },
  {
   "cell_type": "code",
   "execution_count": 28,
   "id": "bae53e0c-78ee-488d-9755-4e53942de9c4",
   "metadata": {},
   "outputs": [
    {
     "data": {
      "text/plain": [
       "array([[36.        , 36.        , 36.        , ..., 36.        ,\n",
       "        36.        , 36.        ],\n",
       "       [35.78945389, 39.05154208, 36.9925551 , ..., 35.70726278,\n",
       "        35.4146262 , 36.15973232],\n",
       "       [35.79998061, 36.8598076 , 39.74466161, ..., 38.13444314,\n",
       "        35.21752262, 37.740815  ],\n",
       "       ...,\n",
       "       [37.35366767, 40.00483388, 31.21209548, ..., 51.6090017 ,\n",
       "        34.48523426, 32.44983244],\n",
       "       [36.26059903, 39.54765646, 32.92089923, ..., 49.60653363,\n",
       "        36.07857857, 32.72804212],\n",
       "       [36.35137867, 41.31311565, 31.1258676 , ..., 50.03170774,\n",
       "        38.59692377, 30.49907394]])"
      ]
     },
     "execution_count": 28,
     "metadata": {},
     "output_type": "execute_result"
    }
   ],
   "source": [
    "paths_1"
   ]
  },
  {
   "cell_type": "code",
   "execution_count": 29,
   "id": "4c63a599-193c-4e62-9dcf-9861f77f3652",
   "metadata": {},
   "outputs": [],
   "source": [
    "gbm.update(volatility=0.5)"
   ]
  },
  {
   "cell_type": "code",
   "execution_count": 30,
   "id": "16342ff0-f1fe-4e15-951c-e20fbf8ef7de",
   "metadata": {},
   "outputs": [
    {
     "name": "stdout",
     "output_type": "stream",
     "text": [
      "CPU times: total: 0 ns\n",
      "Wall time: 387 µs\n"
     ]
    }
   ],
   "source": [
    "%time paths_2 = gbm.get_instrument_values()"
   ]
  },
  {
   "cell_type": "code",
   "execution_count": 33,
   "id": "9ae9deaa-5049-4eb7-b437-4fb0df0b5f59",
   "metadata": {},
   "outputs": [],
   "source": [
    "import matplotlib.pyplot as plt\n",
    "%matplotlib inline"
   ]
  },
  {
   "cell_type": "code",
   "execution_count": 32,
   "id": "d7b8aed6-f264-4af7-aa74-beb88e9f27b5",
   "metadata": {},
   "outputs": [],
   "source": [
    "plt.figure(figsize=(8,4))\n",
    "p1 = plt.plot(gbm.time_grid, paths_1[:, :10], 'b')\n",
    "p2 = plt.plot(gbm.time_grid, paths_2[:, :10], 'r-.')\n",
    "plt.grid(True)\n",
    "l1 = plt.legend([p1[0], p2[0]], ['low volatilituy', 'high volatility'], loc=2)\n",
    "plt"
   ]
  },
  {
   "cell_type": "code",
   "execution_count": null,
   "id": "7bdb3eea-0e87-4e91-9b6b-91a35b7e52c9",
   "metadata": {},
   "outputs": [],
   "source": []
  }
 ],
 "metadata": {
  "kernelspec": {
   "display_name": "Python 3 (ipykernel)",
   "language": "python",
   "name": "python3"
  },
  "language_info": {
   "codemirror_mode": {
    "name": "ipython",
    "version": 3
   },
   "file_extension": ".py",
   "mimetype": "text/x-python",
   "name": "python",
   "nbconvert_exporter": "python",
   "pygments_lexer": "ipython3",
   "version": "3.8.13"
  }
 },
 "nbformat": 4,
 "nbformat_minor": 5
}
