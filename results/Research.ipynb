{
 "cells": [
  {
   "cell_type": "markdown",
   "id": "781deacc-14ed-4abe-b5d9-98cd218cd3c1",
   "metadata": {},
   "source": [
    "# Purpose"
   ]
  },
  {
   "cell_type": "markdown",
   "id": "82a0d487-44a9-4d05-9e6f-0a08415998d6",
   "metadata": {},
   "source": [
    "If you want to end up doing Monte Carlo simulations, you will need a way to generate random numbers with different distributions"
   ]
  },
  {
   "cell_type": "markdown",
   "id": "4a0bc17c-2a24-49b9-985b-d702bf279d4b",
   "metadata": {},
   "source": [
    "# Imports"
   ]
  },
  {
   "cell_type": "code",
   "execution_count": 1,
   "id": "8945ae34-ef9c-4452-b4cf-4e2ff81e3e43",
   "metadata": {},
   "outputs": [],
   "source": [
    "import numpy as np"
   ]
  },
  {
   "cell_type": "markdown",
   "id": "90d90975-1cd9-4912-ae8a-c2162209a6a6",
   "metadata": {},
   "source": [
    "## Functions"
   ]
  },
  {
   "cell_type": "code",
   "execution_count": 2,
   "id": "7c0eb4cd-faa2-4d89-870e-047e0f8c3d4a",
   "metadata": {},
   "outputs": [],
   "source": [
    "def sn_random_numbers(shape, antithetic=True, moment_matching=True, fixed_seed=False):\n",
    "        '''\n",
    "        Returns array of shape shape with (pseudo)random numbers that are standard normally distributed.\n",
    "        \n",
    "        Parameters\n",
    "        ==========\n",
    "        shape : tuple (o, n, m)\n",
    "            generation of array with shape (o, n, m)\n",
    "        antithetic : Boolean\n",
    "            generation of antithetic variates\n",
    "        moment_matching : Boolean\n",
    "            matching of first and second moments\n",
    "        fixed_seed : Boolean\n",
    "            flag to fix the seed\n",
    "            \n",
    "        Results\n",
    "        =======\n",
    "        ran : (o, n, m) array of (pseudo)random numbers\n",
    "        '''\n",
    "        if fixed_seed:\n",
    "            np.random.seed(1000)\n",
    "        if antithetic:\n",
    "            ran = np.random.standard_normal((shape[0], shape[1], shape[2] / 2))\n",
    "            ran = np.concatenate((ran, -ran), axis=2)\n",
    "        else:\n",
    "            ran = np.random.standard_normal(shape)\n",
    "        if moment_matching:\n",
    "            ran = ran - np.mean(ran)\n",
    "            ran = ran / np.std(ran)\n",
    "        if shape[0] == 1:\n",
    "            return ran[0]\n",
    "        else:\n",
    "            return ran"
   ]
  },
  {
   "cell_type": "code",
   "execution_count": 3,
   "id": "1a306aa4-884b-4379-8691-7e913d502c22",
   "metadata": {},
   "outputs": [],
   "source": [
    "snrn = sn_random_numbers((2, 2, 2,), antithetic=False, moment_matching=False, fixed_seed=True)"
   ]
  },
  {
   "cell_type": "code",
   "execution_count": 4,
   "id": "479652c2-73ac-420a-85d4-59e7ea97fa61",
   "metadata": {},
   "outputs": [
    {
     "data": {
      "text/plain": [
       "array([[[-0.8044583 ,  0.32093155],\n",
       "        [-0.02548288,  0.64432383]],\n",
       "\n",
       "       [[-0.30079667,  0.38947455],\n",
       "        [-0.1074373 , -0.47998308]]])"
      ]
     },
     "execution_count": 4,
     "metadata": {},
     "output_type": "execute_result"
    }
   ],
   "source": [
    "snrn"
   ]
  },
  {
   "cell_type": "code",
   "execution_count": null,
   "id": "3eb22279-4248-4f25-be1f-dcac10cea829",
   "metadata": {},
   "outputs": [],
   "source": []
  }
 ],
 "metadata": {
  "kernelspec": {
   "display_name": "Python 3 (ipykernel)",
   "language": "python",
   "name": "python3"
  },
  "language_info": {
   "codemirror_mode": {
    "name": "ipython",
    "version": 3
   },
   "file_extension": ".py",
   "mimetype": "text/x-python",
   "name": "python",
   "nbconvert_exporter": "python",
   "pygments_lexer": "ipython3",
   "version": "3.8.13"
  }
 },
 "nbformat": 4,
 "nbformat_minor": 5
}
