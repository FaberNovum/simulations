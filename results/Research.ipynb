{
 "cells": [
  {
   "cell_type": "markdown",
   "id": "1fa0afb8-abfb-468d-9c27-a2a927e198c2",
   "metadata": {},
   "source": [
    "## Imports"
   ]
  },
  {
   "cell_type": "code",
   "execution_count": 10,
   "id": "8945ae34-ef9c-4452-b4cf-4e2ff81e3e43",
   "metadata": {},
   "outputs": [],
   "source": [
    "import numpy as np\n",
    "import pandas as pd"
   ]
  },
  {
   "cell_type": "markdown",
   "id": "781deacc-14ed-4abe-b5d9-98cd218cd3c1",
   "metadata": {},
   "source": [
    "## Purpose"
   ]
  },
  {
   "cell_type": "markdown",
   "id": "92ea9553-3f02-4de0-90f5-a3f11c244ed0",
   "metadata": {},
   "source": [
    "We want to explore 3 well-known stochastic processes:\n",
    "- geometric brownian motion\n",
    "- jump diffusion\n",
    "- square-root diffusion"
   ]
  },
  {
   "cell_type": "markdown",
   "id": "90d90975-1cd9-4912-ae8a-c2162209a6a6",
   "metadata": {},
   "source": [
    "## Functions"
   ]
  },
  {
   "cell_type": "markdown",
   "id": "2f163b2d-4785-409e-bbbe-82dd29e1c632",
   "metadata": {},
   "source": [
    "If you want to end up doing Monte Carlo simulations, you will need a way to generate random numbers with different distributions.\n",
    "Note that we're generating distributions with variance reduction techniques like antithetic paths and moment matching."
   ]
  },
  {
   "cell_type": "code",
   "execution_count": 2,
   "id": "7c0eb4cd-faa2-4d89-870e-047e0f8c3d4a",
   "metadata": {},
   "outputs": [],
   "source": [
    "\n",
    "def sn_random_numbers(shape, antithetic=True, moment_matching=True, fixed_seed=False):\n",
    "        '''\n",
    "        Returns array of shape shape with (pseudo)random numbers that are standard normally distributed.\n",
    "        \n",
    "        Parameters\n",
    "        ==========\n",
    "        shape : tuple (o, n, m)\n",
    "            generation of array with shape (o, n, m)\n",
    "        antithetic : Boolean\n",
    "            generation of antithetic variates\n",
    "        moment_matching : Boolean\n",
    "            matching of first and second moments\n",
    "        fixed_seed : Boolean\n",
    "            flag to fix the seed\n",
    "            \n",
    "        Results\n",
    "        =======\n",
    "        ran : (o, n, m) array of (pseudo)random numbers\n",
    "        '''\n",
    "        if fixed_seed:\n",
    "            np.random.seed(1000)\n",
    "        if antithetic:\n",
    "            ran = np.random.standard_normal((shape[0], shape[1], shape[2] / 2))\n",
    "            ran = np.concatenate((ran, -ran), axis=2)\n",
    "        else:\n",
    "            ran = np.random.standard_normal(shape)\n",
    "        if moment_matching:\n",
    "            ran = ran - np.mean(ran)\n",
    "            ran = ran / np.std(ran)\n",
    "        if shape[0] == 1:\n",
    "            return ran[0]\n",
    "        else:\n",
    "            return ran"
   ]
  },
  {
   "cell_type": "code",
   "execution_count": 3,
   "id": "1a306aa4-884b-4379-8691-7e913d502c22",
   "metadata": {},
   "outputs": [],
   "source": [
    "snrn = sn_random_numbers((2, 2, 2,), antithetic=False, moment_matching=False, fixed_seed=True)"
   ]
  },
  {
   "cell_type": "code",
   "execution_count": 4,
   "id": "479652c2-73ac-420a-85d4-59e7ea97fa61",
   "metadata": {},
   "outputs": [
    {
     "data": {
      "text/plain": [
       "array([[[-0.8044583 ,  0.32093155],\n",
       "        [-0.02548288,  0.64432383]],\n",
       "\n",
       "       [[-0.30079667,  0.38947455],\n",
       "        [-0.1074373 , -0.47998308]]])"
      ]
     },
     "execution_count": 4,
     "metadata": {},
     "output_type": "execute_result"
    }
   ],
   "source": [
    "snrn"
   ]
  },
  {
   "cell_type": "code",
   "execution_count": 6,
   "id": "3eb22279-4248-4f25-be1f-dcac10cea829",
   "metadata": {},
   "outputs": [],
   "source": [
    "snrn_mm = sn_random_numbers((2,3,2), antithetic=False, moment_matching=True, fixed_seed=True)"
   ]
  },
  {
   "cell_type": "code",
   "execution_count": 7,
   "id": "b049f7b9-2f4f-4ec6-a9b9-72f63311f1b8",
   "metadata": {},
   "outputs": [
    {
     "data": {
      "text/plain": [
       "array([[[-1.47414161,  0.67072537],\n",
       "        [ 0.01049828,  1.28707482],\n",
       "        [-0.51421897,  0.80136066]],\n",
       "\n",
       "       [[-0.14569767, -0.85572818],\n",
       "        [ 1.19313679, -0.82653845],\n",
       "        [ 1.3308292 , -1.47730025]]])"
      ]
     },
     "execution_count": 7,
     "metadata": {},
     "output_type": "execute_result"
    }
   ],
   "source": [
    "snrn_mm"
   ]
  },
  {
   "cell_type": "code",
   "execution_count": 8,
   "id": "0f414c9b-61fe-4eee-855c-45fbf2dde42a",
   "metadata": {},
   "outputs": [
    {
     "data": {
      "text/plain": [
       "3.700743415417188e-17"
      ]
     },
     "execution_count": 8,
     "metadata": {},
     "output_type": "execute_result"
    }
   ],
   "source": [
    "snrn_mm.mean()"
   ]
  },
  {
   "cell_type": "code",
   "execution_count": 9,
   "id": "a68df80d-c1ea-427f-b405-acbada939ba4",
   "metadata": {},
   "outputs": [
    {
     "data": {
      "text/plain": [
       "1.0"
      ]
     },
     "execution_count": 9,
     "metadata": {},
     "output_type": "execute_result"
    }
   ],
   "source": [
    "snrn_mm.std()"
   ]
  },
  {
   "cell_type": "markdown",
   "id": "7faeffd1-e6b4-4fa6-85fe-c500e16ba797",
   "metadata": {},
   "source": [
    "## Generic Simulation Class"
   ]
  },
  {
   "cell_type": "code",
   "execution_count": null,
   "id": "13fd7eb6-9cc4-4685-b9a4-46fd0a48531a",
   "metadata": {},
   "outputs": [],
   "source": [
    "class simulation_class(object):\n",
    "    '''\n",
    "    Base methods for simulation classes\n",
    "    \n",
    "    Attributes\n",
    "    ==========\n",
    "    name : string\n",
    "        name of object\n",
    "    mar_env : instance of market_environment\n",
    "        market environment data for simulation\n",
    "    corr : Boolean\n",
    "        True if correlated with other model object\n",
    "        \n",
    "    Methods\n",
    "    =======\n",
    "    generate_time_grid :\n",
    "        returns time grid for simulation\n",
    "    get_instrument_values : \n",
    "        returns current instrument values (array)\n",
    "    '''\n",
    "    \n",
    "    def __init__(self, name, mar_env, corr):\n",
    "        try:\n",
    "            self.name = name\n",
    "            self.pricing_date = mar_env.pricing_date\n",
    "            self.initial_value = mar_env.get_constant('initial_value')\n",
    "            self.volatility = mar_env.get_constant('volatility')\n",
    "            self.final_date = mar_env.get_constant('final_date')\n",
    "            self.currency = mar_env.get_constant('currency')\n",
    "            self.frequency = mar_env.get_constant('frequency')\n",
    "            self.paths = mar_env.get_constant('paths')\n",
    "            self.discount_curve = mar_env.get_curve('discout_curve')\n",
    "            try:\n",
    "                # if time_grid in mar_env take this\n",
    "                # (for portfolio valuation)\n",
    "                self.time_grid = mar_env.get_list('time_grid')\n",
    "            except:\n",
    "                self.time_grid = None\n",
    "            try:\n",
    "                # if special dates exist, add them\n",
    "                self.special_dates = mar_env.get_list('special_dates')\n",
    "            except:\n",
    "                self.special_dates = []\n",
    "            self.instrument_values = None\n",
    "            self.correlated = corr\n",
    "            if corr is True:\n",
    "                # only necessary in portfolio context when\n",
    "                # risk factors are correlated\n",
    "                self.cholesky_matrix = mar_env.get_list('cholesky_matrix')\n",
    "                self.rn_set = mar_env.get_list('rn_set')[self.name]\n",
    "                self.random_numbers = mar_env.get_list('random_numbers')\n",
    "                except:\n",
    "                    print(\"Error parsing market environment\")\n",
    "    \n",
    "    def generate_time_grid(self):\n",
    "        start = self.pricing_date\n",
    "        end = self.final-date\n",
    "        # pandas date_range function\n",
    "        # freq = 'B' for business day\n",
    "        # 'W' for weekly, 'M' for monthly\n",
    "        time_grid = pd.date_range(start=start, end=end\n",
    "                                  , freq=self.frequency).to_pydatetime()\n",
    "        time_grid = list(time_grid)\n",
    "        # enhance time_grid by start, end, and special_dates\n",
    "        if start not in time_grid:\n",
    "            time_grid.insert(0, start)\n",
    "            # insert start date if not in list\n",
    "        if end not in time_grid:\n",
    "            time_grid.append(end)\n",
    "            # insert end date if not in list\n",
    "        if len(self.special_dates) > 0:\n",
    "            # add all special dates\n",
    "            time_grid.extend(self.special_dates)\n",
    "            # delete duplicates\n",
    "            time_grid = list(set(time_grid))\n",
    "            # sort list\n",
    "            time_grid.sort()\n",
    "        self.time_grid = np.array(time_grid)\n",
    "        \n",
    "    def get_instrument_values(self, fixed_seed=True):\n",
    "        if self.instrument values is None:\n",
    "            # only initiate simulation if no instrument values exist\n",
    "            self.generate_paths(fixed_seed=fixed_seed, day_count=365)\n",
    "        elif fixed_seed is False:\n",
    "            # also initiate resimulation when fixed_seed is False\n",
    "            self.generate_paths(fixed-seed=f\n",
    "        "
   ]
  }
 ],
 "metadata": {
  "kernelspec": {
   "display_name": "Python 3 (ipykernel)",
   "language": "python",
   "name": "python3"
  },
  "language_info": {
   "codemirror_mode": {
    "name": "ipython",
    "version": 3
   },
   "file_extension": ".py",
   "mimetype": "text/x-python",
   "name": "python",
   "nbconvert_exporter": "python",
   "pygments_lexer": "ipython3",
   "version": "3.8.13"
  }
 },
 "nbformat": 4,
 "nbformat_minor": 5
}
